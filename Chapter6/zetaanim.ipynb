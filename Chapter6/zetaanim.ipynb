{
 "cells": [
  {
   "cell_type": "code",
   "execution_count": null,
   "id": "d1979e86-2017-4537-b606-fd4318844b64",
   "metadata": {},
   "outputs": [],
   "source": [
    "import numpy as np\n",
    "import matplotlib.pyplot as plt\n",
    "from matplotlib.animation import FuncAnimation\n",
    "from sympy import zeta\n",
    "%matplotlib\n",
    "\n",
    "Tmax = 50\n",
    "T  = np.linspace(0, Tmax, 1000)\n",
    "Z  = [0.5 + t*1j for t in T]\n",
    "Dom_r = np.real(Z)\n",
    "Dom_i = np.imag(Z)\n",
    "Img_r = []\n",
    "Img_i = []\n",
    "\n",
    "for z in Z:\n",
    "    fz = complex(zeta(z))\n",
    "    Img_r.append(np.real(fz))\n",
    "    Img_i.append(np.imag(fz))\n",
    "\n",
    "fig,(ax1,ax2)=plt.subplots(1,2,figsize=(12,4))\n",
    "plt.rcParams.update({'font.size': 16})\n",
    "\n",
    "curve1, = ax1.plot([],[], 'b', markersize=3)\n",
    "dot1, = ax1.plot([],[],'ro', markersize=6)\n",
    "text1 = 'z=%.1f +(%.4f)i'\n",
    "tit1 = ax1.text(0.27, 1.03*Tmax,'') \n",
    "ax1.set_ylim(-0.5, 0.5+Tmax) \n",
    "ax1.set_xlim(0, 1)\n",
    "ax1.grid('on')\n",
    "\n",
    "curve2, = ax2.plot([],[], 'b', markersize=3)\n",
    "dot2, = ax2.plot([],[],'ro', markersize=6)\n",
    "text2 = 'zeta(z)=%.4f +(%.4f)i'\n",
    "tit2 = ax2.text(-1.2, 3.1,'')\n",
    "ax2.set_ylim(-3, 3) \n",
    "ax2.set_xlim(-2, 4)\n",
    "ax2.grid('on')\n",
    "\n",
    "def animate_frame(i, Dom_r,Dom_i,Img_r,Img_i):\n",
    "    curve1.set_data(Dom_r[:i], Dom_i[:i])\n",
    "    curve2.set_data(Img_r[:i], Img_i[:i])\n",
    "    dot1.set_data([Dom_r[i]], [Dom_i[i]])\n",
    "    dot2.set_data([Img_r[i]], [Img_i[i]])\n",
    "    tit1.set_text(text1 % (Dom_r[i],Dom_i[i]))\n",
    "    tit2.set_text(text2 % (Img_r[i],Img_i[i]))\n",
    "    return curve1,curve2, dot1,dot2, tit1,tit2\n",
    "\n",
    "ani = FuncAnimation(fig, animate_frame,\n",
    "    fargs=(Dom_r, Dom_i, Img_r, Img_i),\n",
    "    frames = len(T),\n",
    "    interval = 20)\n",
    "\n",
    "plt.show()"
   ]
  }
 ],
 "metadata": {
  "kernelspec": {
   "display_name": "Python 3 (ipykernel)",
   "language": "python",
   "name": "python3"
  },
  "language_info": {
   "codemirror_mode": {
    "name": "ipython",
    "version": 3
   },
   "file_extension": ".py",
   "mimetype": "text/x-python",
   "name": "python",
   "nbconvert_exporter": "python",
   "pygments_lexer": "ipython3",
   "version": "3.9.17"
  }
 },
 "nbformat": 4,
 "nbformat_minor": 5
}
