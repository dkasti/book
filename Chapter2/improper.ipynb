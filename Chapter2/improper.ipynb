{
 "cells": [
  {
   "cell_type": "code",
   "execution_count": null,
   "metadata": {},
   "outputs": [],
   "source": [
    "import numpy as np\n",
    "import matplotlib.pyplot as plt\n",
    "from scipy.integrate import simpson\n",
    "\n",
    "alpha = np.linspace(0.05, 7, 500)\n",
    "error = []\n",
    "f = lambda x: np.exp(-x**2)\n",
    "g = lambda x: np.exp(-1/x**2)/x**2\n",
    "\n",
    "exact = 0.5*np.sqrt(np.pi)\n",
    "h = 1e-3\n",
    "\n",
    "def makeodd(N):\n",
    "    return N + 1 - (N%2)\n",
    "\n",
    "for a in alpha:\n",
    "    N1 = int(a/h)\n",
    "    N2 = int(1/(a*h))\n",
    "    x1 = np.linspace(0, a, makeodd(N1))\n",
    "    x2 = np.linspace(1e-8, 1/a, makeodd(N2))\n",
    "    \n",
    "    integ = simpson(y=f(x1),x=x1)+simpson(y=g(x2),x=x2)\n",
    "    err = abs(exact-integ)\n",
    "    error.append(err)\n",
    "\n",
    "plt.semilogy(alpha,error,'g')\n",
    "plt.xlim([0,max(alpha)])\n",
    "plt.xlabel(r'$\\alpha$')\n",
    "plt.ylabel('Absolute error')\n",
    "plt.grid('on')\n",
    "plt.show()"
   ]
  }
 ],
 "metadata": {
  "kernelspec": {
   "display_name": "Python 3 (ipykernel)",
   "language": "python",
   "name": "python3"
  },
  "language_info": {
   "codemirror_mode": {
    "name": "ipython",
    "version": 3
   },
   "file_extension": ".py",
   "mimetype": "text/x-python",
   "name": "python",
   "nbconvert_exporter": "python",
   "pygments_lexer": "ipython3",
   "version": "3.9.17"
  }
 },
 "nbformat": 4,
 "nbformat_minor": 4
}
