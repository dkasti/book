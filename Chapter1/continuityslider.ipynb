{
 "cells": [
  {
   "cell_type": "code",
   "execution_count": null,
   "metadata": {},
   "outputs": [],
   "source": [
    "import numpy as np\n",
    "import matplotlib.pyplot as plt\n",
    "from matplotlib.widgets import Slider\n",
    "%matplotlib\n",
    "\n",
    "def f(xarray):\n",
    "    y = np.zeros_like(xarray)\n",
    "    for ind, x in enumerate(xarray):\n",
    "        if x==0: \n",
    "            y[ind] = 1\n",
    "        else: \n",
    "            y[ind] = np.sin(x)/x\n",
    "    return y\n",
    "\n",
    "xarray = np.linspace(-2, 2,200)\n",
    "x0 = 0\n",
    "y0 = f([x0])\n",
    "eps = 0.1\n",
    "\n",
    "harray0 = np.full_like(xarray, y0)\n",
    "harrayP = np.full_like(xarray, y0+eps)\n",
    "harrayM = np.full_like(xarray, y0-eps)\n",
    "\n",
    "fig,ax = plt.subplots()\n",
    "plt.subplots_adjust(bottom=0.2)\n",
    "\n",
    "plt.ylim(0.5,1.15)\n",
    "plt.plot(xarray, f(xarray), lw=2)\n",
    "\n",
    "h0, = plt.plot(xarray, harray0, 'b:') \n",
    "hP, = plt.plot(xarray, harrayP, 'r:')\n",
    "hM, = plt.plot(xarray, harrayM, 'r:') \n",
    "\n",
    "axeps = plt.axes([0.15, 0.1, 0.7, 0.02])\n",
    "eps_slide = Slider(axeps, '\\u03B5', \n",
    "             0, 0.15, valstep=0.001, \n",
    "             valinit=eps)\n",
    "\n",
    "def update(val):\n",
    "    eps = eps_slide.val\n",
    "    hP.set_ydata(y0 + eps)\n",
    "    hM.set_ydata(y0 - eps)\n",
    "    fig.canvas.draw_idle()\n",
    "\n",
    "eps_slide.on_changed(update)\n",
    "\n",
    "plt.show()"
   ]
  }
 ],
 "metadata": {
  "kernelspec": {
   "display_name": "Python 3 (ipykernel)",
   "language": "python",
   "name": "python3"
  },
  "language_info": {
   "codemirror_mode": {
    "name": "ipython",
    "version": 3
   },
   "file_extension": ".py",
   "mimetype": "text/x-python",
   "name": "python",
   "nbconvert_exporter": "python",
   "pygments_lexer": "ipython3",
   "version": "3.11.5"
  }
 },
 "nbformat": 4,
 "nbformat_minor": 4
}
